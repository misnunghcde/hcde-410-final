{
 "cells": [
  {
   "cell_type": "markdown",
   "id": "dbbc19f1-92f3-42f5-9ce2-2e07d3e77489",
   "metadata": {},
   "source": [
    "# Project Proposal: Correlation Analysis between Birth Rate, Happiness Index, and Economic Indicators in Korea"
   ]
  },
  {
   "cell_type": "markdown",
   "id": "9b1a5594-1ebd-4af1-84cc-831f4a50422d",
   "metadata": {},
   "source": [
    "# Motivation and problem statement\n",
    "\n",
    "## Project overview\n",
    "The low birth rate problem is a social challenge many developed countries. It has an impact on the population structure and the sustainability of society. In particular, Korea has experienced rapid growth but has suffered from side effects. Korea has the lowest birth rate and the fastest rate of decline in the world, and various problems are rapidly emerging in multiple aspects, such as economic stability, social welfare, and individual quality of life.\n",
    "\n",
    "## Motivation\n",
    "As a Korean studying in the United States, I have become more curious about the low birth rate problem of my home country, Korea. I have experienced various cultures and social systems. Through the opportunity to look at the situation in Korea from an international perspective, I have developed a deep curiosity about how the low birth rate problem in Korea differs from that of other countries and what creates these differences. Based on these diverse perspectives and my love for my home country. I want to understand the situation in Korea more deeply through this project.  I'd like to explore how Korea’s factors affect the birth rate and provide implications for the international community.\n",
    "\n",
    "## Problem statement\n",
    "This study examines how socioeconomic, cultural, and economic factors influence Korea's fertility rate, comparing these indicators with those of other countries. The research seeks to uncover which specific factors are most strongly associated with Korea's birth rate and how these relationships differ from global trends. The ultimate goal is to better understand the unique demographic challenges faced by Korea within its cultural and economic context.\n",
    "\n",
    "## Hypothesis\n",
    "### Economic Index Hypothesis\n",
    "Higher GDP per capita will positively correlate with birth rates. Economic growth and increased individual wealth are expected to reduce financial barriers to family formation and child planning.\n",
    "### Low Non-Marital Birth Hypothesis\n",
    "Countries with lower non-marital birth rates are likely to also exhibit lower overall birth rates. A strong reliance on traditional family structures may discourage childbearing outside of marriage, leading to reduced fertility levels.\n",
    "### Negative outcomes in related indicators as well\n",
    "Given South Korea’s exceptionally low birth rate, this is likely to influence related indicators such as happiness and economic security negatively. The interdependence of these factors suggests that Korea may face compounded challenges where declining fertility impacts population trends and exacerbates societal well-being and financial stability.\n",
    "\n",
    "## Background and Related Work\n",
    "Eungyung Kim and Jee-Seon Yi’s study, “Determinants of Childbearing Intention in Korea: A Systematic Review and Meta-Analysis,” analyzes the key factors influencing childbearing intentions in Korea.\n",
    "\n",
    "__Link:__ [Determinants of Fertility Intentions among South Koreans: Systematic Review and Meta-Analysis](https://www.mdpi.com/2076-328X/14/10/939)\n",
    "\n",
    "### Key Findings\n",
    "#### 1. Economic Security as a Positive Influence\n",
    "\n",
    "This study mentioned that living expenses, housing, and education costs are barriers to family planning in Korea.\n",
    "\n",
    "#### 2. Social Support and Gender Roles in Family Life\n",
    "\n",
    "Traditional gender roles have a strong influence in Korea. This study calls for policies that promote gender equality in parenting to better support families.\n",
    "\n",
    "#### 3. Personal Well-being\n",
    "\n",
    "High levels of stress are related to a lower birth rate. This reflects the difficulty of long working hours and high expectations in the workplace and home environment."
   ]
  },
  {
   "cell_type": "markdown",
   "id": "9a5bbf55-ec56-497a-a58b-4f3fce6e0077",
   "metadata": {},
   "source": [
    "## Data selected for analysis\n",
    "\n",
    "### 1. Fertility Rate Data\n",
    "- __Source:__ World Bank\n",
    "\n",
    "- __Link:__ [World Bank Fertility Rate Data](https://data.worldbank.org/indicator/SP.DYN.TFRT.IN)\n",
    "- __License:__ This data is available under the World Bank's open data license, requiring proper attribution.\n",
    "\n",
    "- __Suitablitly:__ This dataset is relevant to theresearch goal as it allows for analyzing fertility trends in Korea and comparing them with other countries over time.\n",
    "\n",
    "- __Ethical Consideration:__ This data is at the national level, so it does not contain personal or identifiable information, thus posing minimal privacy concerns.\n",
    "\n",
    "### 2. Happiness Index Data\n",
    "- __Source:__ World Happiness Report\n",
    "\n",
    "- __Link:__ [Happiness Index Data](https://worldhappiness.report/data/)\n",
    "- __License:__ Publicly accessible with attribution required.\n",
    "- __Suitablitly:__ The happiness index is central to this study as it measures the overall well-being of a country's population. I can investigate how societal contentment relates to birth rates by including happiness as a variable.\n",
    "\n",
    "- __Ethical Consideration:__ Happiness indices are helpful, but they may not fully capture the cultural nuances and diverse factors that affect well-being across countries. Results should be avoid cultural bias or generalization\n",
    "\n",
    "### 3. Source: OECD Family Database\n",
    "- __source:__ [OECD Family Database - Share of Births Outside Marriage 2.4](https://www.oecd.org/en/data/datasets/oecd-family-database.html)\n",
    "\n",
    "- __License:__ This dataset is open for use under the OECD’s terms, with proper attribution required.\n",
    "\n",
    "- __Suitability:__ This dataset is central to understanding societal trends in family structure, especially the share of births outside marriage. It is essential for analyzing the evolution of societal norms and comparing these patterns across countries over decades.\n",
    "\n",
    "- __Ethical Consideration:__ The data is aggregated at the national level and does not involve personal or identifiable information, thus posing no significant privacy concerns. When interpreting trends, care should be taken to avoid drawing culturally insensitive conclusions or overgeneralizations.\n",
    "\n",
    "---"
   ]
  },
  {
   "cell_type": "markdown",
   "id": "1aae996d-d067-46a9-b525-58f3e0e7eace",
   "metadata": {},
   "source": [
    "## Methodology\n",
    "\n",
    "This study investigates the relationship between fertility rates, happiness levels, economic stability, and the percentage of births outside marriage to examine how these factors influence fertility trends in Korea compared to other countries. The analysis  try to find patterns and associations that distinguish Korea's demographic challenges within a global context.\n",
    "\n",
    "#### Correlation Analysis\n",
    "Correlation analysis finds the relationship between fertility, happiness, and economic indicators. It identifies the relationship between these variables.\n",
    "\n",
    "#### Time Series Analysis\n",
    "Time series analysis finds how fertility rate and changes in Korea’s economic and happiness indicators. This analysis provides insight into the relationships and helps understand long-term changes.\n",
    "\n",
    "#### Comparative \n",
    "Analysis with Other Countries: This study uses comparative analysis to place Korea’s fertility trends globally. This study can determine whether trends in Korea are consistent with or different from trends in other developed countries.\n",
    "\n",
    "###  Presentation Methodology\n",
    "\n",
    "#### Time Series Graph\n",
    "Time series graphs display fertility trends in Korea and other specific countries, highlighting how these fertility rates change in terms of happiness and economic indicators.\n",
    "\n",
    "### Double-axis Bar Graph\n",
    "A double-axis bar graph visualizes fertility rates and non-marital birth rates together, allowing for a clear comparison across countries. This approach highlights changes over time and provides an intuitive view of how South Korea’s trends differ from others."
   ]
  },
  {
   "cell_type": "markdown",
   "id": "57f88338-dd49-49ff-9d2b-614b1ed51180",
   "metadata": {},
   "source": [
    "## Unknowns and dependencies\n",
    "### Data availability and completeness\n",
    "The selected datasets are publicly available, but there may be gaps or inconsistencies in the data, especially for specific years or countries. Missing values ​​may impact the analysis and timeline.\n",
    "\n",
    "### Data processing and integration\n",
    "Integrating multiple datasets from different sources can be challenging, especially when variables need to be standardized or the period is different. Maintaining consistency across datasets can be difficult.\n",
    "\n",
    "### Interpretation challenges\n",
    "This project relies on quantitative data, which may not capture the full nuance of culture. Qualitative data may be required to interpret the results carefully.\n",
    "\n",
    "### Time constraints\n",
    "Unexpected disruption at any stage can impact the overall timeline, so prioritization is essential.\n",
    "\n",
    "---"
   ]
  },
  {
   "cell_type": "code",
   "execution_count": null,
   "id": "af2a2204-9c21-4643-8b7b-ab599937b1b8",
   "metadata": {},
   "outputs": [],
   "source": []
  }
 ],
 "metadata": {
  "kernelspec": {
   "display_name": "Python 3 (ipykernel)",
   "language": "python",
   "name": "python3"
  },
  "language_info": {
   "codemirror_mode": {
    "name": "ipython",
    "version": 3
   },
   "file_extension": ".py",
   "mimetype": "text/x-python",
   "name": "python",
   "nbconvert_exporter": "python",
   "pygments_lexer": "ipython3",
   "version": "3.10.13"
  }
 },
 "nbformat": 4,
 "nbformat_minor": 5
}
